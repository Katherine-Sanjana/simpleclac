{
  "nbformat": 4,
  "nbformat_minor": 0,
  "metadata": {
    "colab": {
      "name": "simplecaluculator.ipynb",
      "provenance": [],
      "private_outputs": true,
      "toc_visible": true,
      "authorship_tag": "ABX9TyMHeVlJzgNFphXjuE4LPQ5S",
      "include_colab_link": true
    },
    "kernelspec": {
      "name": "python3",
      "display_name": "Python 3"
    }
  },
  "cells": [
    {
      "cell_type": "markdown",
      "metadata": {
        "id": "view-in-github",
        "colab_type": "text"
      },
      "source": [
        "<a href=\"https://colab.research.google.com/github/Katherine-Sanjana/simpleclac/blob/master/simplecaluculator.ipynb\" target=\"_parent\"><img src=\"https://colab.research.google.com/assets/colab-badge.svg\" alt=\"Open In Colab\"/></a>"
      ]
    },
    {
      "cell_type": "markdown",
      "metadata": {
        "id": "NkKg3_h97BaH",
        "colab_type": "text"
      },
      "source": [
        "This program helps implement a simple menu driven calculator."
      ]
    },
    {
      "cell_type": "code",
      "metadata": {
        "id": "jrl5Pd6f6xJa",
        "colab_type": "code",
        "colab": {}
      },
      "source": [
        "while True:\n",
        "  print(\"1.Addition\")\n",
        "  print(\"2.Subtraction\")\n",
        "  print(\"3.Multiplication\")\n",
        "  print(\"4.Division\")\n",
        "  print(\"5.Exit\")\n",
        "  choice = int(input(\"Enter your choice : \"))\n",
        "  if(choice>=1 and choice<=4):\n",
        "    print(\"Enter the numbers : \")\n",
        "    n1 = int(input())\n",
        "    n2 = int(input())\n",
        "    if choice == 1:\n",
        "      r = n1+n2\n",
        "      print(\"Result =\",r)\n",
        "    elif choice == 2:\n",
        "      r = n1-n2\n",
        "      print(\"Result =\",r)\n",
        "    elif choice == 3:\n",
        "      r = n1*n2 \n",
        "      print(\"Result =\",r)  \n",
        "    else:\n",
        "     r = n1 / n2\n",
        "    print(\"Result =\",r)\n",
        "  elif choice == 5:\n",
        "    exit()\n",
        "  else:\n",
        "    print(\"Wrong input...\")\n",
        "\n",
        "\n"
      ],
      "execution_count": null,
      "outputs": []
    }
  ]
}